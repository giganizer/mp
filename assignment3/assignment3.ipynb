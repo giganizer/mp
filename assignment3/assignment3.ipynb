{
 "cells": [
  {
   "cell_type": "code",
   "execution_count": null,
   "metadata": {},
   "outputs": [],
   "source": [
    "#imports\n",
    "import numpy as np\n",
    "from a3_utils import *\n",
    "import cv2\n",
    "from matplotlib import pyplot as plt\n",
    "import math\n",
    "import os"
   ]
  },
  {
   "cell_type": "markdown",
   "metadata": {},
   "source": [
    "### Exercise 1: Image derivates"
   ]
  },
  {
   "cell_type": "markdown",
   "metadata": {},
   "source": [
    "#### (a)\n",
    "\n",
    "-> OneNote"
   ]
  },
  {
   "cell_type": "markdown",
   "metadata": {},
   "source": [
    "#### (b)"
   ]
  },
  {
   "cell_type": "code",
   "execution_count": null,
   "metadata": {},
   "outputs": [],
   "source": [
    "def gaussdx(sigma):\n",
    "    size = 2 * math.ceil((3 * sigma)) + 1\n",
    "\n",
    "    vals = np.arange(-(size//2),size//2+1)\n",
    "\n",
    "    kernel = -(\n",
    "        (\n",
    "            (1)\n",
    "            /\n",
    "            (math.sqrt(2*math.pi) * sigma ** 3)\n",
    "        )\n",
    "        *\n",
    "        vals\n",
    "        *\n",
    "        np.exp(\n",
    "            -(\n",
    "                (vals**2)\n",
    "                /\n",
    "                (2 * sigma **2)\n",
    "            )\n",
    "        )\n",
    "    )\n",
    "\n",
    "    kernel = kernel / np.sum(np.absolute(kernel))\n",
    "\n",
    "    return kernel"
   ]
  },
  {
   "cell_type": "markdown",
   "metadata": {},
   "source": [
    "#### (c)"
   ]
  },
  {
   "cell_type": "code",
   "execution_count": null,
   "metadata": {},
   "outputs": [],
   "source": [
    "def gauss(sigma):\n",
    "    size = 2 * math.ceil((3 * sigma)) + 1\n",
    "    vals = np.arange(-(size//2),size//2+1)\n",
    "    kernel = (1 / math.sqrt(2 * math.pi) * sigma) * np.exp(-((vals**2) / (2 * sigma**2)))\n",
    "    kernel = kernel / np.sum(kernel)\n",
    "    return kernel"
   ]
  },
  {
   "cell_type": "code",
   "execution_count": null,
   "metadata": {},
   "outputs": [],
   "source": [
    "impulse = np.zeros((50, 50))\n",
    "impulse[25, 25] = 1\n",
    "\n",
    "e1c_sigma = 4\n",
    "e1c_g = gauss(e1c_sigma)\n",
    "e1c_g = e1c_g.reshape(1, -1)\n",
    "e1c_d = gaussdx(e1c_sigma)\n",
    "e1c_d = e1c_d.reshape(1, -1)\n",
    "e1c_g = np.flip(e1c_g)\n",
    "e1c_d = np.flip(e1c_d)\n",
    "\n",
    "e1c_result_g_gt = cv2.filter2D(impulse, -1, e1c_g)\n",
    "e1c_result_g_gt = cv2.filter2D(e1c_result_g_gt, -1, e1c_g.T)\n",
    "\n",
    "e1c_result_g_dt = cv2.filter2D(impulse, -1, e1c_g)\n",
    "e1c_result_g_dt = cv2.filter2D(e1c_result_g_dt, -1, e1c_d.T)\n",
    "\n",
    "e1c_result_d_gt = cv2.filter2D(impulse, -1, e1c_d)\n",
    "e1c_result_d_gt = cv2.filter2D(e1c_result_d_gt, -1, e1c_g.T)\n",
    "\n",
    "e1c_result_gt_d = cv2.filter2D(impulse, -1, e1c_g.T)\n",
    "e1c_result_gt_d = cv2.filter2D(e1c_result_gt_d, -1, e1c_d)\n",
    "\n",
    "e1c_result_dt_g = cv2.filter2D(impulse, -1, e1c_d.T)\n",
    "e1c_result_dt_g = cv2.filter2D(e1c_result_dt_g, -1, e1c_g)\n",
    "\n",
    "\n",
    "plt.figure(figsize=(16,8))\n",
    "plt.subplot(2,3,1)\n",
    "plt.title(\"Impulse\")\n",
    "plt.imshow(impulse, cmap=\"gray\")\n",
    "plt.subplot(2,3,2)\n",
    "plt.title(\"b) G, D^T\")\n",
    "plt.imshow(e1c_result_g_dt, cmap=\"gray\")\n",
    "plt.subplot(2,3,3)\n",
    "plt.title(\"c) D, G^T\")\n",
    "plt.imshow(e1c_result_d_gt, cmap=\"gray\")\n",
    "plt.subplot(2,3,4)\n",
    "plt.title(\"a) G, G^T\")\n",
    "plt.imshow(e1c_result_g_gt, cmap=\"gray\")\n",
    "plt.subplot(2,3,5)\n",
    "plt.title(\"d) G^T, D\")\n",
    "plt.imshow(e1c_result_gt_d, cmap=\"gray\")\n",
    "plt.subplot(2,3,6)\n",
    "plt.title(\"e) D^T, G\")\n",
    "plt.imshow(e1c_result_dt_g, cmap=\"gray\")\n",
    "plt.show()"
   ]
  },
  {
   "cell_type": "markdown",
   "metadata": {},
   "source": [
    "The order of operations is not important, as can be seen in the images."
   ]
  },
  {
   "cell_type": "markdown",
   "metadata": {},
   "source": [
    "#### (d)"
   ]
  },
  {
   "cell_type": "code",
   "execution_count": null,
   "metadata": {},
   "outputs": [],
   "source": [
    "def part_der(img, sigma, dev=False):\n",
    "    g = np.flip(gauss(sigma).reshape(1, -1))\n",
    "    dg = np.flip(gaussdx(sigma).reshape(1, -1))\n",
    "\n",
    "    # \"however, we have to remember to always filter the image before we perform derivation\"  - I remembered\n",
    "    Ix = cv2.filter2D(img, -1, g.T)\n",
    "    Ix = cv2.filter2D(img, -1, dg)\n",
    "    Iy = cv2.filter2D(img, -1, g)\n",
    "    Iy = cv2.filter2D(img, -1, dg.T)\n",
    "\n",
    "    if dev:\n",
    "        return Ix, Iy, g, dg # dev mode : return kernels also\n",
    "    else:\n",
    "        return Ix, Iy"
   ]
  },
  {
   "cell_type": "code",
   "execution_count": null,
   "metadata": {},
   "outputs": [],
   "source": [
    "def part_2nd_ord_der(img, sigma):\n",
    "    Ix, Iy, g, dg = part_der(img, sigma, dev=True)\n",
    "    \n",
    "    Ixx = cv2.filter2D(Ix, -1, g.T)\n",
    "    Ixx = cv2.filter2D(Ixx, -1, dg)\n",
    "\n",
    "    Iyy = cv2.filter2D(Iy, -1, g)\n",
    "    Iyy = cv2.filter2D(Iyy, -1, dg.T)\n",
    "\n",
    "    Ixy = cv2.filter2D(Ix, -1, g)\n",
    "    Ixy = cv2.filter2D(Ixy, -1, dg.T)\n",
    "\n",
    "    return Ixx, Iyy, Ixy"
   ]
  },
  {
   "cell_type": "code",
   "execution_count": null,
   "metadata": {},
   "outputs": [],
   "source": [
    "def gradient_magnitudes(I, sigma):\n",
    "    Ix, Iy = part_der(I, sigma)\n",
    "    m = np.sqrt(np.square(Ix) + np.square(Iy))\n",
    "    phi = np.arctan2(Iy, Ix)\n",
    "    return m, phi"
   ]
  },
  {
   "cell_type": "code",
   "execution_count": null,
   "metadata": {},
   "outputs": [],
   "source": [
    "e1d_museum = cv2.imread(\"images\\museum.jpg\", cv2.IMREAD_GRAYSCALE)\n",
    "e1d_museum = e1d_museum.astype(np.float64)\n",
    "# e1d_museum = e1d_museum / 255\n",
    "\n",
    "e1d_sigma = 2\n",
    "e1d_ix, e1d_iy = part_der(e1d_museum, e1d_sigma)\n",
    "e1d_ixx, e1d_iyy, e1d_ixy = part_2nd_ord_der(e1d_museum, e1d_sigma)\n",
    "e1d_imag, e1d_idir = gradient_magnitudes(e1d_museum, e1d_sigma)\n",
    "\n",
    "plt.figure(figsize=(16,6))\n",
    "plt.subplot(2,4,1)\n",
    "plt.title(\"Original\")\n",
    "plt.imshow(e1d_museum, cmap=\"gray\")\n",
    "plt.subplot(2,4,2)\n",
    "plt.title(\"I_x\")\n",
    "plt.imshow(e1d_ix, cmap=\"gray\")\n",
    "plt.subplot(2,4,3)\n",
    "plt.title(\"I_y\")\n",
    "plt.imshow(e1d_iy, cmap=\"gray\")\n",
    "plt.subplot(2,4,4)\n",
    "plt.title(\"I_mag\")\n",
    "plt.imshow(e1d_imag, cmap=\"gray\")\n",
    "plt.subplot(2,4,5)\n",
    "plt.title('I_xx')\n",
    "plt.imshow(e1d_ixx, cmap='gray')\n",
    "plt.subplot(2,4,6)\n",
    "plt.title('I_xy')\n",
    "plt.imshow(e1d_ixy, cmap='gray')\n",
    "plt.subplot(2,4,7)\n",
    "plt.title('I_yy')\n",
    "plt.imshow(e1d_iyy, cmap='gray')\n",
    "plt.subplot(2,4,8)\n",
    "plt.title('I_dir')\n",
    "plt.imshow(e1d_idir, cmap='gray')\n",
    "plt.show()"
   ]
  },
  {
   "cell_type": "markdown",
   "metadata": {},
   "source": [
    "#### (e)"
   ]
  },
  {
   "cell_type": "code",
   "execution_count": null,
   "metadata": {},
   "outputs": [],
   "source": [
    "def img_retrieval(dir, bins):\n",
    "    \"\"\"\n",
    "        dir : directory name\n",
    "        bins : number of bins for histogram\n",
    "    \"\"\"\n",
    "    #declare main data struct\n",
    "    objects_data = {}\n",
    "\n",
    "    #iterate over file names in dir\n",
    "    for filename in os.listdir(dir):\n",
    "        #init object data struct\n",
    "        object_instance = {\n",
    "            #\"filename\" : filename, #self-explanatory\n",
    "            \"image\" : None, #image matrix\n",
    "            \"feature\" : None\n",
    "        }\n",
    "        #read image\n",
    "        object_instance[\"image\"] = cv2.imread(dir+filename)\n",
    "        object_instance[\"image\"] = cv2.cvtColor(object_instance[\"image\"], cv2.COLOR_BGR2RGB)\n",
    "        \n",
    "        mags, dirs = gradient_magnitudes(object_instance[\"image\"], 2)\n",
    "        angle_space = np.linspace(-np.pi, np.pi, 8) #in radians\n",
    "        im_height_space = np.linspace(0, object_instance[\"image\"].shape[0], 8)\n",
    "        im_width_space = np.linspace(0, object_instance[\"image\"].shape[1], 8)\n",
    "        histograms = np.zeros((8,8,8))\n",
    "\n",
    "        for y in range(object_instance[\"image\"].shape[0]):\n",
    "            for x in range(object_instance[\"image\"].shape[1]):\n",
    "                ybin = np.digitize(y, im_height_space) - 1\n",
    "                xbin = np.digitize(x, im_width_space) - 1\n",
    "                anglebin = np.digitize(dirs[y][x], angle_space)-1\n",
    "                histograms[ybin][xbin][anglebin] += mags[y][x]\n",
    "\n",
    "        object_instance[\"feature\"] = histograms.flatten()\n",
    "\n",
    "        objects_data[filename] = object_instance\n",
    "    \n",
    "    #return\n",
    "    return objects_data"
   ]
  },
  {
   "cell_type": "code",
   "execution_count": null,
   "metadata": {},
   "outputs": [],
   "source": [
    "def compare_histograms(h1, h2, measure):\n",
    "    \"\"\"\n",
    "        h1 : histogram 1\n",
    "        h2 : histogram 2\n",
    "        measure : chosen distance measure\n",
    "    \"\"\"\n",
    "    result = -1\n",
    "\n",
    "    if(measure==\"l2\"):\n",
    "        result = np.sqrt(np.sum((h1-h2)**2))\n",
    "    elif(measure==\"chi-square\"):\n",
    "        result = 0.5 * np.sum(\n",
    "            ((h1-h2)**2)\n",
    "            /\n",
    "            (h1+h2+1e-10)\n",
    "        )\n",
    "    elif(measure==\"intersection\"):\n",
    "        result = 1 - np.sum(\n",
    "            np.minimum(h1,h2)\n",
    "        )\n",
    "    elif(measure==\"hellinger\"):\n",
    "        result = np.sqrt(\n",
    "            0.5 * \n",
    "            np.sum(\n",
    "                (np.sqrt(h1) - np.sqrt(h2))**2\n",
    "            )\n",
    "        )\n",
    "    \n",
    "    return result"
   ]
  },
  {
   "cell_type": "code",
   "execution_count": null,
   "metadata": {},
   "outputs": [],
   "source": [
    "histograms_data = img_retrieval(\"./dataset/\", 8)"
   ]
  },
  {
   "cell_type": "code",
   "execution_count": null,
   "metadata": {},
   "outputs": [],
   "source": [
    "selected_image = \"object_05_4.png\" \n",
    "\n",
    "#init new dict with same keys - file names - but for holding distances to the selected image\n",
    "distances_from_selected = dict.fromkeys(histograms_data)\n",
    "#iterate over the file names and for each file compute all distances to the selected file\n",
    "for filename in distances_from_selected:\n",
    "    #init struct for distances for this instance\n",
    "    distances_object = {\n",
    "        \"l2\" : -1,\n",
    "        \"chi-square\" : -1,\n",
    "        \"intersection\" : -1,\n",
    "        \"hellinger\" : -1\n",
    "    }\n",
    "    #this could be in a for loop over the method names, but i feel like this way is more readable and its already spaghetti\n",
    "    distances_object[\"l2\"] = compare_histograms(histograms_data[selected_image][\"feature\"], histograms_data[filename][\"feature\"], \"l2\")\n",
    "    distances_object[\"chi-square\"] = compare_histograms(histograms_data[selected_image][\"feature\"], histograms_data[filename][\"feature\"], \"chi-square\")\n",
    "    distances_object[\"intersection\"] = compare_histograms(histograms_data[selected_image][\"feature\"], histograms_data[filename][\"feature\"], \"intersection\")\n",
    "    distances_object[\"hellinger\"] = compare_histograms(histograms_data[selected_image][\"feature\"], histograms_data[filename][\"feature\"], \"hellinger\")\n",
    "    #put it in the main struct\n",
    "    distances_from_selected[filename] = distances_object\n",
    "\n",
    "\n"
   ]
  },
  {
   "cell_type": "code",
   "execution_count": null,
   "metadata": {},
   "outputs": [],
   "source": [
    "methods = [\"hellinger\"] #\"l2\", \"chi-square\", \"intersection\", \n",
    "sorted_by_distance = {}\n",
    "for method in methods:\n",
    "    #sort by distance from this method\n",
    "    sorted_by_distance[method] = list(sorted(distances_from_selected.items(), key=lambda item: item[1][method]))\n",
    "    #plot\n",
    "    plt.figure(figsize=(18,6))\n",
    "    ln_wid = 5\n",
    "    for i in range(0,6):\n",
    "        curr_name = sorted_by_distance[method][i][0]\n",
    "        plt.subplot(2,6,i+1)\n",
    "        plt.imshow(histograms_data[curr_name][\"image\"])\n",
    "        plt.title(curr_name)\n",
    "        curr_hist = histograms_data[curr_name][\"feature\"]\n",
    "        plt.subplot(2,6,i+6+1)\n",
    "        plt.bar(range(len(curr_hist)), curr_hist, width=ln_wid)\n",
    "        plt.title(\"{} = {}\".format(method, round(sorted_by_distance[method][i][1][method],2)))\n",
    "    plt.show()"
   ]
  },
  {
   "cell_type": "markdown",
   "metadata": {},
   "source": [
    "### Exercise 2: Edges in images"
   ]
  },
  {
   "cell_type": "markdown",
   "metadata": {},
   "source": [
    "#### (a)"
   ]
  },
  {
   "cell_type": "code",
   "execution_count": null,
   "metadata": {},
   "outputs": [],
   "source": [
    "def findedges(I, sigma, theta):\n",
    "    Imag, _ = gradient_magnitudes(I, sigma)\n",
    "    Ie = np.where(Imag >= theta, 1, 0)\n",
    "    return Ie"
   ]
  },
  {
   "cell_type": "code",
   "execution_count": null,
   "metadata": {},
   "outputs": [],
   "source": [
    "e2a_museum = cv2.imread(\"images\\museum.jpg\", cv2.IMREAD_GRAYSCALE) / 255\n",
    "\n",
    "plt.figure(figsize=(16,6))\n",
    "plt.subplot(2,4,1)\n",
    "plt.title(\"Original\")\n",
    "plt.imshow(e2a_museum, cmap=\"gray\")\n",
    "for i in range(1,8):\n",
    "    e2a_step = 2.5\n",
    "    e2a_offset = 10\n",
    "    plt.subplot(2,4,i+1)\n",
    "    plt.title('{}'.format(i*e2a_step+e2a_offset))\n",
    "    plt.imshow(findedges(e2a_museum, 2, (i*e2a_step+e2a_offset)/180), cmap='gray')\n",
    "plt.show()"
   ]
  },
  {
   "cell_type": "markdown",
   "metadata": {},
   "source": [
    "#### (b)"
   ]
  },
  {
   "cell_type": "code",
   "execution_count": null,
   "metadata": {},
   "outputs": [],
   "source": [
    "def non_maxima_bad(mags, angls, thr):\n",
    "    ret = np.copy(mags)\n",
    "    neighborhood_size = 1\n",
    "\n",
    "    for y in range(mags.shape[0]):\n",
    "        for x in range(mags.shape[1]):\n",
    "            x_tl = x - neighborhood_size\n",
    "            x_tl = 0 if x_tl < 0 else x_tl\n",
    "            y_tl = y - neighborhood_size\n",
    "            y_tl = 0 if y_tl < 0 else y_tl\n",
    "            x_br = x + neighborhood_size\n",
    "            x_br = mags.shape[1]-1 if x_br > mags.shape[1]-1 else x_br\n",
    "            y_br = y + neighborhood_size\n",
    "            y_br = mags.shape[0]-1 if y_br > mags.shape[0]-1 else y_br\n",
    "\n",
    "            current = mags[y,x]\n",
    "            cut_mags = np.copy(mags[y_tl:y_br, x_tl:x_br])\n",
    "            cut_angls = np.copy(angls[y_tl:y_br, x_tl:x_br])\n",
    "            \n",
    "            cut_angls = np.abs(cut_angls - current)/current\n",
    "            cut_mags = np.where(cut_angls <= thr, 0, cut_mags)\n",
    "\n",
    "            largest = np.max(cut_mags)\n",
    "\n",
    "            if current != largest: ret[y,x] = 0\n",
    "\n",
    "    return ret"
   ]
  },
  {
   "cell_type": "code",
   "execution_count": null,
   "metadata": {},
   "outputs": [],
   "source": [
    "def non_maxima(mags, angls):\n",
    "    ret = np.pad(mags, pad_width=1, mode=\"constant\", constant_values=0)\n",
    "    \n",
    "    for y in range(1, 1+mags.shape[0]):\n",
    "        for x in range(1, 1+mags.shape[1]):\n",
    "            angle = angls[y-1][x-1]\n",
    "            angle = ((angle) * 180) / math.pi\n",
    "            angle = angle + 180 if angle < 0 else angle\n",
    "            crds = None\n",
    "            if angle <= 22.5:\n",
    "                crds = ((y, x-1), (y, x+1))\n",
    "            elif angle <= 67.5:\n",
    "                crds = ((y-1, x+1), (y-1, x+1))\n",
    "            elif angle <= 112.5:\n",
    "                crds = ((y-1, x), (y+1, x))\n",
    "            elif angle <= 157.5:\n",
    "                crds = ((y-1, x-1), (y+1, x+1))\n",
    "            elif angle <= 180:\n",
    "                crds = ((y, x-1), (y, x+1))\n",
    "            if ret[crds[0][0]][crds[0][1]] > ret[y][x] or ret[crds[1][0]][crds[1][1]] > ret[y][x]:\n",
    "                ret[y][x] = 0\n",
    "    \n",
    "    return ret\n",
    "            "
   ]
  },
  {
   "cell_type": "code",
   "execution_count": null,
   "metadata": {},
   "outputs": [],
   "source": [
    "e2b_museum = cv2.imread(\"images\\museum.jpg\", cv2.IMREAD_GRAYSCALE)\n",
    "e2b_museum = e2b_museum.astype(np.float64)\n",
    "\n",
    "e2b_thr = 0.16\n",
    "e2b_test1_mag, e2b_test1_dir = gradient_magnitudes(e2b_museum, 2)\n",
    "\n",
    "#\n",
    "e2b_test1_mag = (e2b_test1_mag - np.min(e2b_test1_mag)) / (np.max(e2b_test1_mag) - np.min(e2b_test1_mag))\n",
    "e2b_test1_mag = np.where(e2b_test1_mag < e2b_thr, 0, e2b_test1_mag)\n",
    "\n",
    "# e2b_test1_nms = non_maxima_bad(e2b_test1_mag, e2b_test1_dir, e2b_thr)\n",
    "\n",
    "e2b_test1_nms2 = non_maxima(e2b_test1_mag, e2b_test1_dir)\n",
    "\n",
    "plt.figure(figsize=(16,10))\n",
    "plt.subplot(1,3,1)\n",
    "plt.imshow(e2b_museum, cmap=\"gray\")\n",
    "plt.subplot(1,3,2)\n",
    "plt.imshow(e2b_test1_mag, cmap=\"gray\")\n",
    "# plt.subplot(1,2,3)\n",
    "# plt.imshow(e2b_test1_nms, cmap=\"gray\")\n",
    "plt.subplot(1,3,3)\n",
    "plt.imshow(e2b_test1_nms2, cmap=\"gray\")\n",
    "plt.show()"
   ]
  },
  {
   "cell_type": "markdown",
   "metadata": {},
   "source": [
    "#### (c)"
   ]
  },
  {
   "cell_type": "code",
   "execution_count": null,
   "metadata": {},
   "outputs": [],
   "source": [
    "def hysteresis(img, tlow, thigh):\n",
    "    ret = np.copy(img)\n",
    "    ret[ret>thigh] = 1\n",
    "    ret[ret<tlow] = 0\n",
    "\n",
    "    n_labs, labels, _, _ = cv2.connectedComponentsWithStats(np.uint8(ret*255), connectivity=8)\n",
    "\n",
    "    for i in range(1,n_labs):\n",
    "        label_mask = np.where(labels == i)\n",
    "        ret[label_mask] = 1 if np.any(ret[label_mask] >= 1) else 0\n",
    "\n",
    "    return ret"
   ]
  },
  {
   "cell_type": "code",
   "execution_count": null,
   "metadata": {},
   "outputs": [],
   "source": [
    "e3b_museum = e2a_museum\n",
    "e3b_thr = 0.16\n",
    "e3b_thigh = 0.16\n",
    "e3b_tlow = 0.04\n",
    "\n",
    "e3b_mag, e3b_dir = gradient_magnitudes(e3b_museum, 2)\n",
    "\n",
    "e3b_thresh = np.where(e3b_mag < e3b_thr, 0, 1)\n",
    "e3b_nms = non_maxima(e3b_mag, e3b_dir)\n",
    "e3b_hist = hysteresis(e3b_nms, e3b_tlow, e3b_thigh)"
   ]
  },
  {
   "cell_type": "code",
   "execution_count": null,
   "metadata": {},
   "outputs": [],
   "source": [
    "plt.figure(figsize=(15,10))\n",
    "plt.subplot(2,2,1)\n",
    "plt.imshow(e3b_museum, cmap=\"gray\")\n",
    "plt.title(\"Original\")\n",
    "plt.subplot(2,2,2)\n",
    "plt.imshow(e3b_thresh, cmap=\"gray\")\n",
    "plt.title(\"Thresholded\")\n",
    "plt.subplot(2,2,3)\n",
    "plt.imshow(e3b_nms, cmap=\"gray\")\n",
    "plt.title(\"NMS\")\n",
    "plt.subplot(2,2,4)\n",
    "plt.imshow(e3b_hist, cmap=\"gray\")\n",
    "plt.title(\"Hysteresis\")\n",
    "plt.show()"
   ]
  },
  {
   "cell_type": "markdown",
   "metadata": {},
   "source": [
    "### Exercise 3: Detecting lines"
   ]
  },
  {
   "cell_type": "markdown",
   "metadata": {},
   "source": [
    "Question --> OneNote"
   ]
  },
  {
   "cell_type": "markdown",
   "metadata": {},
   "source": [
    "#### (a)"
   ]
  },
  {
   "cell_type": "code",
   "execution_count": null,
   "metadata": {},
   "outputs": [],
   "source": [
    "e3a_accumulators = []\n",
    "e3a_points = [\n",
    "    (10, 10),\n",
    "    (30, 60),\n",
    "    (50, 20),\n",
    "    (80, 90)\n",
    "]\n",
    "\n",
    "for i in range(len(e3a_points)):\n",
    "    point = e3a_points[i]\n",
    "    e3a_accumulators.append(np.zeros((300,300)))\n",
    "    for theta in range(e3a_accumulators[i].shape[1]):\n",
    "        theta_rad = ((theta-150)/150)*math.pi\n",
    "        ro = round(\n",
    "            point[0] # x\n",
    "            * math.cos(theta_rad) \n",
    "            + point[1] # y\n",
    "            * math.sin(theta_rad)\n",
    "            )\n",
    "        # print(theta_rad, \" | \", ro)\n",
    "        e3a_accumulators[i][ro-150][theta] += 1\n",
    "    \n",
    "plt.figure(figsize=(16,16))\n",
    "for i in range(len(e3a_points)):\n",
    "    plt.subplot(2,2,i+1)\n",
    "    plt.title(\"x = {}, y = {}\".format(e3a_points[i][0], e3a_points[i][1]))\n",
    "    plt.imshow(e3a_accumulators[i])\n",
    "plt.show()"
   ]
  },
  {
   "cell_type": "markdown",
   "metadata": {},
   "source": [
    "#### (b)"
   ]
  },
  {
   "cell_type": "code",
   "execution_count": null,
   "metadata": {},
   "outputs": [],
   "source": [
    "def hough_find_lines(img, bins, th):\n",
    "    \"\"\"\n",
    "    img : binary image\n",
    "    bins : tuple (<number of theta bins>, <number of rho bins>)\n",
    "    th : threshold\n",
    "    \"\"\"\n",
    "    theta_bins, rho_bins = bins\n",
    "\n",
    "    theta = np.linspace(-np.pi/2, np.pi/2, theta_bins)\n",
    "    D = math.sqrt(\n",
    "        img.shape[0]**2\n",
    "        +\n",
    "        img.shape[1]**2\n",
    "    )\n",
    "    rho = np.linspace(-D, D, rho_bins)\n",
    "\n",
    "    A = np.zeros((rho_bins, theta_bins))\n",
    "\n",
    "    for y in range(img.shape[0]):\n",
    "        for x in range(img.shape[1]):\n",
    "            if img[y][x] != 0:\n",
    "                #nonzero pixel\n",
    "                for i_th in range(len(theta)):\n",
    "                    rho_val = (\n",
    "                          x # x\n",
    "                        * math.cos(theta[i_th]) \n",
    "                        + y # y\n",
    "                        * math.sin(theta[i_th])\n",
    "                    )\n",
    "                    rho_val_bin = np.digitize(rho_val, rho)-1\n",
    "                    A[rho_val_bin][i_th] += 1\n",
    "    \n",
    "    return A"
   ]
  },
  {
   "cell_type": "code",
   "execution_count": null,
   "metadata": {},
   "outputs": [],
   "source": [
    "e3b_testimg_100 = np.zeros((100,100))\n",
    "e3b_testimg_100[9,9], e3b_testimg_100[9,19] = 1, 1\n",
    "e3b_hough_1 = hough_find_lines(e3b_testimg_100, (180, 180), None)\n",
    "\n",
    "e3b_oneline = cv2.imread(\"./images/oneline.png\", cv2.IMREAD_GRAYSCALE) / 255\n",
    "e3b_rectangle = cv2.imread(\"./images/rectangle.png\", cv2.IMREAD_GRAYSCALE) / 255\n",
    "e3b_line_edges = findedges(e3b_oneline, 2, 0.5)\n",
    "e3b_rect_edges = findedges(e3b_rectangle, 2, 0.5)\n",
    "e3b_hough_2 = hough_find_lines(e3b_line_edges, (180, 180), None)\n",
    "e3b_hough_3 = hough_find_lines(e3b_rect_edges, (180, 180), None)\n",
    "\n",
    "plt.figure(figsize=(16,8))\n",
    "plt.subplot(1,2,1)\n",
    "# a, b = gradient_magnitudes(np.uint8(e3b_line_edges*255), 2)\n",
    "# plt.imshow(non_maxima(a, b), cmap=\"gray\")\n",
    "plt.imshow(e3b_line_edges, cmap=\"gray\")\n",
    "plt.subplot(1,2,2)\n",
    "plt.imshow(e3b_rect_edges, cmap=\"gray\")\n",
    "plt.show()"
   ]
  },
  {
   "cell_type": "code",
   "execution_count": null,
   "metadata": {},
   "outputs": [],
   "source": [
    "plt.figure(figsize=(12,6))\n",
    "plt.subplot(2,3,1)\n",
    "plt.imshow(e3b_hough_1)\n",
    "plt.title(\"Synthetic 100 x 100\")\n",
    "plt.subplot(2,3,2)\n",
    "plt.imshow(e3b_hough_2)\n",
    "plt.title(\"One line\")\n",
    "plt.subplot(2,3,3)\n",
    "plt.imshow(e3b_hough_3)\n",
    "plt.title(\"Rectangle\")\n",
    "# plt.subplot(2,3,4)\n",
    "# plt.imshow(e3b_testimg_100, cmap=\"gray\")\n",
    "# plt.subplot(2,3,5)\n",
    "# plt.imshow(e3b_line_edges, cmap=\"gray\")\n",
    "# plt.subplot(2,3,6)\n",
    "# plt.imshow(e3b_rect_edges, cmap=\"gray\")\n",
    "plt.show()"
   ]
  },
  {
   "cell_type": "markdown",
   "metadata": {},
   "source": [
    "#### (c)"
   ]
  },
  {
   "cell_type": "code",
   "execution_count": null,
   "metadata": {},
   "outputs": [],
   "source": [
    "def nonmaxima_suppression_box(matrx):\n",
    "    ret = np.copy(matrx)\n",
    "    ret = np.pad(matrx, pad_width=1, mode=\"constant\", constant_values=0)\n",
    "    \n",
    "    for y in range(1, 1+matrx.shape[0]):\n",
    "        for x in range(1, 1+matrx.shape[1]):\n",
    "            coords = (\n",
    "                (y-1, x-1),\n",
    "                (y-1, x),\n",
    "                (y-1, x+1),\n",
    "                (y, x-1),\n",
    "                (y, x+1),\n",
    "                (y+1, x-1),\n",
    "                (y+1, x),\n",
    "                (y+1, x+1)\n",
    "            )\n",
    "            is_not_max = False\n",
    "            for ny, nx in coords:\n",
    "                if ret[ny][nx] > ret[y][x]:\n",
    "                    is_not_max = True\n",
    "                    break\n",
    "            if is_not_max: ret[y][x] = 0\n",
    "    \n",
    "    return ret[1:-1,1:-1]"
   ]
  },
  {
   "cell_type": "markdown",
   "metadata": {},
   "source": [
    "#### (d)"
   ]
  },
  {
   "cell_type": "code",
   "execution_count": null,
   "metadata": {},
   "outputs": [],
   "source": [
    "def pair_extraction(acc, img_dims, thr, bins):\n",
    "    thrsh_acc = np.where(acc > thr, 1, 0)\n",
    "    ret = []\n",
    "    theta_bins, rho_bins = bins\n",
    "    theta_space = np.linspace(-np.pi/2, np.pi/2, theta_bins)\n",
    "    D = math.sqrt(img_dims[0]**2+img_dims[1]**2)\n",
    "    rho_space = np.linspace(-D, D, rho_bins)\n",
    "\n",
    "    for y in range(0, thrsh_acc.shape[0]):\n",
    "        for x in range(0, thrsh_acc.shape[1]):\n",
    "            if thrsh_acc[y][x] == 1: \n",
    "                theta = theta_space[x]\n",
    "                rho = rho_space[y]\n",
    "                ret.append((rho, theta))\n",
    "    return ret"
   ]
  },
  {
   "cell_type": "code",
   "execution_count": null,
   "metadata": {},
   "outputs": [],
   "source": [
    "e3d_synt = e3b_testimg_100\n",
    "e3d_line = e3b_oneline\n",
    "e3d_rect = e3b_rectangle\n",
    "\n",
    "e3d_synt_edges = e3d_synt\n",
    "e3d_line_edges = findedges(e3d_line, 2, 0.2)\n",
    "e3d_rect_edges = findedges(e3d_rect, 2, 0.2)\n",
    "\n",
    "# e3d_synt_hough = hough_find_lines(e3d_synt_edges, (180, 180), None)\n",
    "# e3d_line_hough = hough_find_lines(e3d_line_edges, (180, 180), None)\n",
    "# e3d_rect_hough = hough_find_lines(e3d_rect_edges, (180, 180), None)\n",
    "\n",
    "e3d_synt_hough = hough_find_lines(e3d_synt_edges, (180, 180), None)\n",
    "e3d_line_hough = hough_find_lines(e3d_line_edges, (500, 500), None)\n",
    "e3d_rect_hough = hough_find_lines(e3d_rect_edges, (750, 250), None)\n",
    "\n",
    "e3d_synt_hgh_nms = nonmaxima_suppression_box(e3d_synt_hough)\n",
    "e3d_line_hgh_nms = nonmaxima_suppression_box(e3d_line_hough)\n",
    "e3d_rect_hgh_nms = nonmaxima_suppression_box(e3d_rect_hough)\n"
   ]
  },
  {
   "cell_type": "code",
   "execution_count": null,
   "metadata": {},
   "outputs": [],
   "source": [
    "e3d_pairs_synt = pair_extraction(e3d_synt_hgh_nms, (100, 100), 1, (180, 180))\n",
    "e3d_pairs_line = pair_extraction(e3d_line_hgh_nms, (e3d_line.shape[0], e3d_line.shape[1]), 950, (500, 500))\n",
    "e3d_pairs_rect = pair_extraction(e3d_rect_hgh_nms, (e3d_rect.shape[0], e3d_rect.shape[1]), 450, (750, 250))\n",
    "\n",
    "plt.figure(figsize=(16,8))\n",
    "plt.subplot(1,3,1)\n",
    "plt.imshow(e3b_testimg_100, cmap=\"gray\")\n",
    "for rho, theta in e3d_pairs_synt:\n",
    "    draw_line(rho, theta, 100, 100)\n",
    "plt.subplot(1,3,2)\n",
    "plt.imshow(e3b_oneline, cmap=\"gray\")\n",
    "for rho, theta in e3d_pairs_line:\n",
    "    draw_line(rho, theta, e3b_oneline.shape[0], e3b_oneline.shape[1])\n",
    "plt.subplot(1,3,3)\n",
    "plt.imshow(e3b_rectangle, cmap=\"gray\")\n",
    "for rho, theta in e3d_pairs_rect:\n",
    "    draw_line(rho, theta, e3b_rectangle.shape[0], e3b_rectangle.shape[1])\n",
    "\n",
    "# draw_line(e3d_pairs_synt[0], e3d_pairs_synt[1], 100, 100)\n",
    "# draw_line(e3d_pairs_line[0], e3d_pairs_line[1], e3b_oneline.shape[0], e3b_oneline.shape[1])\n",
    "# draw_line(e3d_pairs_rect[0], e3d_pairs_rect[1], e3b_rectangle.shape[0], e3b_rectangle.shape[1])"
   ]
  },
  {
   "cell_type": "markdown",
   "metadata": {},
   "source": [
    "#### (e)"
   ]
  },
  {
   "cell_type": "code",
   "execution_count": null,
   "metadata": {},
   "outputs": [],
   "source": [
    "def pair_extraction_topn(acc, img_dims, thr, bins, n):\n",
    "    thrsh_acc = np.where(acc > thr, 1, 0)\n",
    "    ret = []\n",
    "    theta_bins, rho_bins = bins\n",
    "    theta_space = np.linspace(-np.pi/2, np.pi/2, theta_bins)\n",
    "    D = math.sqrt(img_dims[0]**2+img_dims[1]**2)\n",
    "    rho_space = np.linspace(-D, D, rho_bins)\n",
    "\n",
    "    for y in range(0, thrsh_acc.shape[0]):\n",
    "        for x in range(0, thrsh_acc.shape[1]):\n",
    "            if thrsh_acc[y][x] == 1: \n",
    "                theta = theta_space[x]\n",
    "                rho = rho_space[y]\n",
    "                ret.append((rho, theta, acc[y][x]))\n",
    "\n",
    "    sort_ret = sorted(ret, key = lambda el: el[2], reverse=True)\n",
    "    return sort_ret[0:n]"
   ]
  },
  {
   "cell_type": "code",
   "execution_count": null,
   "metadata": {},
   "outputs": [],
   "source": [
    "e3e_bricks = cv2.imread(\"./images/bricks.jpg\", cv2.IMREAD_GRAYSCALE) / 255\n",
    "e3e_pier = cv2.imread(\"./images/pier.jpg\", cv2.IMREAD_GRAYSCALE) / 255\n",
    "\n",
    "e3e_bricks_edges = findedges(e3e_bricks, 2, 0.1)\n",
    "e3e_pier_edges = findedges(e3e_pier, 2, 0.2)\n",
    "\n",
    "e3e_bricks_binsizes = (700, 700)\n",
    "e3e_pier_binsizes   = (700, 700)\n",
    "\n",
    "e3e_bricks_hough = hough_find_lines(e3e_bricks_edges, e3e_bricks_binsizes, None)\n",
    "e3e_pier_hough = hough_find_lines(e3e_pier_edges, e3e_pier_binsizes, None)\n",
    "\n",
    "e3e_bricks_nms = nonmaxima_suppression_box(e3e_bricks_hough)\n",
    "e3e_pier_nms = nonmaxima_suppression_box(e3e_pier_hough)"
   ]
  },
  {
   "cell_type": "code",
   "execution_count": null,
   "metadata": {},
   "outputs": [],
   "source": [
    "e3e_bricks_pairs = pair_extraction_topn(e3e_bricks_nms, (e3e_bricks.shape[0], e3e_bricks.shape[1]), 1, e3e_bricks_binsizes, 10)\n",
    "e3e_pier_pairs = pair_extraction_topn(e3e_pier_nms, (e3e_pier.shape[0], e3e_pier.shape[1]), 1, e3e_pier_binsizes, 10)\n",
    "\n",
    "e3e_bricks_color = cv2.imread(\"./images/bricks.jpg\")\n",
    "e3e_bricks_color = cv2.cvtColor(e3e_bricks_color, cv2.COLOR_BGR2RGB)\n",
    "e3e_pier_color = cv2.imread(\"./images/pier.jpg\")\n",
    "e3e_pier_color = cv2.cvtColor(e3e_pier_color, cv2.COLOR_BGR2RGB)\n",
    "\n",
    "plt.figure(figsize=(16,8))\n",
    "plt.subplot(2,2,1)\n",
    "plt.imshow(e3e_bricks_hough)\n",
    "plt.title(\"bricks.jpg\")\n",
    "plt.subplot(2,2,2)\n",
    "plt.imshow(e3e_pier_hough)\n",
    "plt.title(\"pier.jpg\")\n",
    "plt.subplot(2,2,3)\n",
    "plt.imshow(e3e_bricks_color)\n",
    "for rho, theta, _ in e3e_bricks_pairs:\n",
    "    draw_line(rho, theta, e3e_bricks.shape[0], e3e_bricks.shape[1])\n",
    "plt.subplot(2,2,4)\n",
    "plt.imshow(e3e_pier_color)\n",
    "for rho, theta, _ in e3e_pier_pairs:\n",
    "    draw_line(rho, theta, e3e_pier.shape[0], e3e_pier.shape[1])\n",
    "plt.show()"
   ]
  }
 ],
 "metadata": {
  "kernelspec": {
   "display_name": "Python 3",
   "language": "python",
   "name": "python3"
  },
  "language_info": {
   "codemirror_mode": {
    "name": "ipython",
    "version": 3
   },
   "file_extension": ".py",
   "mimetype": "text/x-python",
   "name": "python",
   "nbconvert_exporter": "python",
   "pygments_lexer": "ipython3",
   "version": "3.11.2"
  }
 },
 "nbformat": 4,
 "nbformat_minor": 2
}
